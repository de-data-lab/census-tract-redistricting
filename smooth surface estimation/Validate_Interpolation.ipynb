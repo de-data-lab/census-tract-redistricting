{
 "cells": [
  {
   "cell_type": "markdown",
   "id": "3b0e887d",
   "metadata": {},
   "source": [
    "This notebook assesses the validity of the smooth surface interpolation"
   ]
  },
  {
   "cell_type": "code",
   "execution_count": 1,
   "id": "5151d55e",
   "metadata": {},
   "outputs": [],
   "source": [
    "# Import libraries\n",
    "\n",
    "import pandas as pd\n",
    "import geopandas\n",
    "import numpy as np\n",
    "import requests\n",
    "from io import BytesIO\n",
    "import folium\n",
    "from IPython.display import clear_output\n",
    "from itertools import chain"
   ]
  },
  {
   "cell_type": "code",
   "execution_count": 5,
   "id": "68306a65",
   "metadata": {},
   "outputs": [],
   "source": [
    "# Read the interpolation results into a dataframe\n",
    "interpolations = pd.read_csv(\"estimates50.csv\")"
   ]
  },
  {
   "cell_type": "code",
   "execution_count": 47,
   "id": "58f7107d",
   "metadata": {},
   "outputs": [],
   "source": [
    "# Exclude GEOIDs of tracts with zero values\n",
    "interpolations = interpolations.loc[~interpolations[\"GEOID\"].isin([10003980100, 10005980000])]"
   ]
  },
  {
   "cell_type": "code",
   "execution_count": 50,
   "id": "db381878",
   "metadata": {},
   "outputs": [],
   "source": [
    "# Find the differences between ground truth values and interpolated values\n",
    "interpolations[\"P001001_diff\"] = ((interpolations[\"P001001\"] - interpolations[\"P1_001N\"]) / interpolations[\"P1_001N\"]).apply(np.abs) * 100\n",
    "interpolations[\"H001001_diff\"] = ((interpolations[\"H001001\"] - interpolations[\"H1_001N\"]) / interpolations[\"H1_001N\"]).apply(np.abs) * 100\n",
    "interpolations[\"P001003_diff\"] = ((interpolations[\"P001003\"] - interpolations[\"P1_003N\"]) / interpolations[\"P1_003N\"]).apply(np.abs) * 100\n",
    "\n"
   ]
  },
  {
   "cell_type": "code",
   "execution_count": 51,
   "id": "61b7e71b",
   "metadata": {},
   "outputs": [
    {
     "data": {
      "text/html": [
       "<div>\n",
       "<style scoped>\n",
       "    .dataframe tbody tr th:only-of-type {\n",
       "        vertical-align: middle;\n",
       "    }\n",
       "\n",
       "    .dataframe tbody tr th {\n",
       "        vertical-align: top;\n",
       "    }\n",
       "\n",
       "    .dataframe thead th {\n",
       "        text-align: right;\n",
       "    }\n",
       "</style>\n",
       "<table border=\"1\" class=\"dataframe\">\n",
       "  <thead>\n",
       "    <tr style=\"text-align: right;\">\n",
       "      <th></th>\n",
       "      <th>P001001_diff</th>\n",
       "      <th>H001001_diff</th>\n",
       "      <th>P001003_diff</th>\n",
       "    </tr>\n",
       "  </thead>\n",
       "  <tbody>\n",
       "    <tr>\n",
       "      <th>count</th>\n",
       "      <td>257.000000</td>\n",
       "      <td>257.000000</td>\n",
       "      <td>257.000000</td>\n",
       "    </tr>\n",
       "    <tr>\n",
       "      <th>mean</th>\n",
       "      <td>11.947835</td>\n",
       "      <td>11.108270</td>\n",
       "      <td>19.031714</td>\n",
       "    </tr>\n",
       "    <tr>\n",
       "      <th>std</th>\n",
       "      <td>15.214523</td>\n",
       "      <td>19.661963</td>\n",
       "      <td>21.778370</td>\n",
       "    </tr>\n",
       "    <tr>\n",
       "      <th>min</th>\n",
       "      <td>0.106537</td>\n",
       "      <td>0.096817</td>\n",
       "      <td>0.036848</td>\n",
       "    </tr>\n",
       "    <tr>\n",
       "      <th>25%</th>\n",
       "      <td>3.108654</td>\n",
       "      <td>1.671876</td>\n",
       "      <td>7.459088</td>\n",
       "    </tr>\n",
       "    <tr>\n",
       "      <th>50%</th>\n",
       "      <td>7.110266</td>\n",
       "      <td>5.614496</td>\n",
       "      <td>13.652886</td>\n",
       "    </tr>\n",
       "    <tr>\n",
       "      <th>75%</th>\n",
       "      <td>15.454385</td>\n",
       "      <td>14.359155</td>\n",
       "      <td>24.491803</td>\n",
       "    </tr>\n",
       "    <tr>\n",
       "      <th>max</th>\n",
       "      <td>170.312517</td>\n",
       "      <td>260.792589</td>\n",
       "      <td>207.477979</td>\n",
       "    </tr>\n",
       "  </tbody>\n",
       "</table>\n",
       "</div>"
      ],
      "text/plain": [
       "       P001001_diff  H001001_diff  P001003_diff\n",
       "count    257.000000    257.000000    257.000000\n",
       "mean      11.947835     11.108270     19.031714\n",
       "std       15.214523     19.661963     21.778370\n",
       "min        0.106537      0.096817      0.036848\n",
       "25%        3.108654      1.671876      7.459088\n",
       "50%        7.110266      5.614496     13.652886\n",
       "75%       15.454385     14.359155     24.491803\n",
       "max      170.312517    260.792589    207.477979"
      ]
     },
     "execution_count": 51,
     "metadata": {},
     "output_type": "execute_result"
    }
   ],
   "source": [
    "# Analyze percentile differences between interpolated data and ground truth data\n",
    "interpolations[[\"P001001_diff\",\"H001001_diff\",\"P001003_diff\"]].describe()"
   ]
  },
  {
   "cell_type": "code",
   "execution_count": null,
   "id": "a2dae543",
   "metadata": {},
   "outputs": [],
   "source": []
  },
  {
   "cell_type": "code",
   "execution_count": null,
   "id": "c5a309d2",
   "metadata": {},
   "outputs": [],
   "source": []
  }
 ],
 "metadata": {
  "kernelspec": {
   "display_name": "Python 3 (ipykernel)",
   "language": "python",
   "name": "python3"
  },
  "language_info": {
   "codemirror_mode": {
    "name": "ipython",
    "version": 3
   },
   "file_extension": ".py",
   "mimetype": "text/x-python",
   "name": "python",
   "nbconvert_exporter": "python",
   "pygments_lexer": "ipython3",
   "version": "3.9.13"
  }
 },
 "nbformat": 4,
 "nbformat_minor": 5
}
