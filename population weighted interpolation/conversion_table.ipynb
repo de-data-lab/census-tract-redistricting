{
 "cells": [
  {
   "cell_type": "markdown",
   "id": "b96d8b52",
   "metadata": {},
   "source": [
    "This notebook creates a conversion table for census tracts mapping from 2019 to 2020. It also prints accuracy matrics for the interpolation"
   ]
  },
  {
   "cell_type": "code",
   "execution_count": 1,
   "id": "b080cbde",
   "metadata": {},
   "outputs": [],
   "source": [
    "# import libraries\n",
    "\n",
    "import pandas as pd\n",
    "import geopandas\n",
    "import numpy as np\n",
    "import seaborn as sns\n",
    "import folium\n",
    "from scipy import stats\n",
    "from io import BytesIO\n",
    "import requests"
   ]
  },
  {
   "cell_type": "code",
   "execution_count": 2,
   "id": "903aab54",
   "metadata": {},
   "outputs": [],
   "source": [
    "# Skip geometry column due to type mismatch\n",
    "\n",
    "# Read grund truth values for census tracts\n",
    "tract_truths = pd.read_csv(\"tracts2020.csv\")\n",
    "tract_truths = tract_truths.drop(columns=\"geometry\")\n",
    "\n",
    "# Read grund interpolated values for census tracts\n",
    "tract_interpolated = pd.read_csv(\"interpolated.csv\")\n",
    "tract_interpolated = tract_interpolated.drop(columns=\"geometry\") # Use population as weights\n",
    "#tract_interpolated = pd.read_csv(\"interpolated_house.csv\")\n",
    "#tract_interpolated = tract_interpolated.drop(columns=\"geometry\")# Use houses as weights"
   ]
  },
  {
   "cell_type": "markdown",
   "id": "aec60c82",
   "metadata": {},
   "source": [
    "Create conversion table"
   ]
  },
  {
   "cell_type": "code",
   "execution_count": 4,
   "id": "8d22f9bc",
   "metadata": {},
   "outputs": [],
   "source": [
    "# For each 2020 census tract, stores all associated 2019 census tracts in a list\n",
    "conversion_table = []\n",
    "\n",
    "# Get all the column names corresponding to tracts\n",
    "tract2019_cols = [col for col in tract_interpolated.columns.tolist()[1:] if 'GEOID' in col]\n",
    "\n",
    "# Iterate over interpolated data\n",
    "for index, tract in tract_interpolated.iterrows():\n",
    "    # Create a list for related tracts\n",
    "    related = [[t[6:], tract[t]] for t in tract2019_cols if tract[t] > 0]\n",
    "    conversion_table.append([str(int(tract[\"GEOID\"])), related])"
   ]
  },
  {
   "cell_type": "code",
   "execution_count": 5,
   "id": "d1e36c32",
   "metadata": {},
   "outputs": [],
   "source": [
    "# Write conversion table to a csv\n",
    "conversion_frame = pd.DataFrame(data=conversion_table, columns = [\"Tract_2020\", \"Tract_2019\"])\n",
    "conversion_frame.to_csv(\"conversion_table.csv\", index=False)"
   ]
  },
  {
   "cell_type": "markdown",
   "id": "37b0a28d",
   "metadata": {},
   "source": [
    "Calculate the difference between the interpolated values and the ground truth data"
   ]
  },
  {
   "cell_type": "code",
   "execution_count": 5,
   "id": "22f6a2d3",
   "metadata": {},
   "outputs": [
    {
     "name": "stdout",
     "output_type": "stream",
     "text": [
      "(262, 4) (262, 4)\n"
     ]
    },
    {
     "data": {
      "text/html": [
       "<div>\n",
       "<style scoped>\n",
       "    .dataframe tbody tr th:only-of-type {\n",
       "        vertical-align: middle;\n",
       "    }\n",
       "\n",
       "    .dataframe tbody tr th {\n",
       "        vertical-align: top;\n",
       "    }\n",
       "\n",
       "    .dataframe thead th {\n",
       "        text-align: right;\n",
       "    }\n",
       "</style>\n",
       "<table border=\"1\" class=\"dataframe\">\n",
       "  <thead>\n",
       "    <tr style=\"text-align: right;\">\n",
       "      <th></th>\n",
       "      <th>GEOID</th>\n",
       "      <th>pop</th>\n",
       "      <th>housing</th>\n",
       "      <th>white</th>\n",
       "    </tr>\n",
       "  </thead>\n",
       "  <tbody>\n",
       "    <tr>\n",
       "      <th>41</th>\n",
       "      <td>10001990000</td>\n",
       "      <td>NaN</td>\n",
       "      <td>NaN</td>\n",
       "      <td>NaN</td>\n",
       "    </tr>\n",
       "    <tr>\n",
       "      <th>186</th>\n",
       "      <td>10003990100</td>\n",
       "      <td>NaN</td>\n",
       "      <td>NaN</td>\n",
       "      <td>NaN</td>\n",
       "    </tr>\n",
       "    <tr>\n",
       "      <th>261</th>\n",
       "      <td>10005990000</td>\n",
       "      <td>NaN</td>\n",
       "      <td>NaN</td>\n",
       "      <td>NaN</td>\n",
       "    </tr>\n",
       "  </tbody>\n",
       "</table>\n",
       "</div>"
      ],
      "text/plain": [
       "           GEOID  pop  housing  white\n",
       "41   10001990000  NaN      NaN    NaN\n",
       "186  10003990100  NaN      NaN    NaN\n",
       "261  10005990000  NaN      NaN    NaN"
      ]
     },
     "execution_count": 5,
     "metadata": {},
     "output_type": "execute_result"
    }
   ],
   "source": [
    "# Check for mathing dataframe size\n",
    "print(tract_truths.shape, tract_interpolated.shape)\n",
    "\n",
    "# Locate interpolated tracts with missing data (3)\n",
    "tract_interpolated.loc[tract_interpolated.isna().any(axis=1)]\n",
    "\n",
    "# Locate ground truth tracts with missing data (0)\n",
    "#tract_truths.loc[tract_truths.isna().any(axis=1)]"
   ]
  },
  {
   "cell_type": "code",
   "execution_count": 9,
   "id": "322fb9da",
   "metadata": {},
   "outputs": [
    {
     "data": {
      "text/html": [
       "<div>\n",
       "<style scoped>\n",
       "    .dataframe tbody tr th:only-of-type {\n",
       "        vertical-align: middle;\n",
       "    }\n",
       "\n",
       "    .dataframe tbody tr th {\n",
       "        vertical-align: top;\n",
       "    }\n",
       "\n",
       "    .dataframe thead th {\n",
       "        text-align: right;\n",
       "    }\n",
       "</style>\n",
       "<table border=\"1\" class=\"dataframe\">\n",
       "  <thead>\n",
       "    <tr style=\"text-align: right;\">\n",
       "      <th></th>\n",
       "      <th>GEOID</th>\n",
       "      <th>pop</th>\n",
       "      <th>housing</th>\n",
       "      <th>white</th>\n",
       "    </tr>\n",
       "  </thead>\n",
       "  <tbody>\n",
       "    <tr>\n",
       "      <th>40</th>\n",
       "      <td>10001980000</td>\n",
       "      <td>263</td>\n",
       "      <td>0</td>\n",
       "      <td>0</td>\n",
       "    </tr>\n",
       "    <tr>\n",
       "      <th>41</th>\n",
       "      <td>10001990000</td>\n",
       "      <td>0</td>\n",
       "      <td>0</td>\n",
       "      <td>0</td>\n",
       "    </tr>\n",
       "    <tr>\n",
       "      <th>185</th>\n",
       "      <td>10003980100</td>\n",
       "      <td>0</td>\n",
       "      <td>0</td>\n",
       "      <td>0</td>\n",
       "    </tr>\n",
       "    <tr>\n",
       "      <th>186</th>\n",
       "      <td>10003990100</td>\n",
       "      <td>0</td>\n",
       "      <td>0</td>\n",
       "      <td>0</td>\n",
       "    </tr>\n",
       "    <tr>\n",
       "      <th>260</th>\n",
       "      <td>10005980000</td>\n",
       "      <td>0</td>\n",
       "      <td>0</td>\n",
       "      <td>0</td>\n",
       "    </tr>\n",
       "    <tr>\n",
       "      <th>261</th>\n",
       "      <td>10005990000</td>\n",
       "      <td>0</td>\n",
       "      <td>0</td>\n",
       "      <td>0</td>\n",
       "    </tr>\n",
       "  </tbody>\n",
       "</table>\n",
       "</div>"
      ],
      "text/plain": [
       "           GEOID  pop  housing  white\n",
       "40   10001980000  263        0      0\n",
       "41   10001990000    0        0      0\n",
       "185  10003980100    0        0      0\n",
       "186  10003990100    0        0      0\n",
       "260  10005980000    0        0      0\n",
       "261  10005990000    0        0      0"
      ]
     },
     "execution_count": 9,
     "metadata": {},
     "output_type": "execute_result"
    }
   ],
   "source": [
    "# Locate census tracts with 0 counts (6)\n",
    "tract_truths.loc[(tract_truths==0).any(axis=1)]"
   ]
  },
  {
   "cell_type": "code",
   "execution_count": 10,
   "id": "7fc1eca4",
   "metadata": {},
   "outputs": [
    {
     "data": {
      "text/html": [
       "<div>\n",
       "<style scoped>\n",
       "    .dataframe tbody tr th:only-of-type {\n",
       "        vertical-align: middle;\n",
       "    }\n",
       "\n",
       "    .dataframe tbody tr th {\n",
       "        vertical-align: top;\n",
       "    }\n",
       "\n",
       "    .dataframe thead th {\n",
       "        text-align: right;\n",
       "    }\n",
       "</style>\n",
       "<table border=\"1\" class=\"dataframe\">\n",
       "  <thead>\n",
       "    <tr style=\"text-align: right;\">\n",
       "      <th></th>\n",
       "      <th>GEOID</th>\n",
       "      <th>pop</th>\n",
       "      <th>housing</th>\n",
       "      <th>white</th>\n",
       "    </tr>\n",
       "  </thead>\n",
       "  <tbody>\n",
       "    <tr>\n",
       "      <th>40</th>\n",
       "      <td>10001980000</td>\n",
       "      <td>144.688995</td>\n",
       "      <td>46.138072</td>\n",
       "      <td>37.722488</td>\n",
       "    </tr>\n",
       "    <tr>\n",
       "      <th>41</th>\n",
       "      <td>10001990000</td>\n",
       "      <td>0.000000</td>\n",
       "      <td>0.000000</td>\n",
       "      <td>0.000000</td>\n",
       "    </tr>\n",
       "    <tr>\n",
       "      <th>185</th>\n",
       "      <td>10003980100</td>\n",
       "      <td>0.000000</td>\n",
       "      <td>0.000000</td>\n",
       "      <td>0.000000</td>\n",
       "    </tr>\n",
       "    <tr>\n",
       "      <th>186</th>\n",
       "      <td>10003990100</td>\n",
       "      <td>0.000000</td>\n",
       "      <td>0.000000</td>\n",
       "      <td>0.000000</td>\n",
       "    </tr>\n",
       "    <tr>\n",
       "      <th>260</th>\n",
       "      <td>10005980000</td>\n",
       "      <td>0.961744</td>\n",
       "      <td>0.470161</td>\n",
       "      <td>0.461362</td>\n",
       "    </tr>\n",
       "    <tr>\n",
       "      <th>261</th>\n",
       "      <td>10005990000</td>\n",
       "      <td>0.000000</td>\n",
       "      <td>0.000000</td>\n",
       "      <td>0.000000</td>\n",
       "    </tr>\n",
       "  </tbody>\n",
       "</table>\n",
       "</div>"
      ],
      "text/plain": [
       "           GEOID         pop    housing      white\n",
       "40   10001980000  144.688995  46.138072  37.722488\n",
       "41   10001990000    0.000000   0.000000   0.000000\n",
       "185  10003980100    0.000000   0.000000   0.000000\n",
       "186  10003990100    0.000000   0.000000   0.000000\n",
       "260  10005980000    0.961744   0.470161   0.461362\n",
       "261  10005990000    0.000000   0.000000   0.000000"
      ]
     },
     "execution_count": 10,
     "metadata": {},
     "output_type": "execute_result"
    }
   ],
   "source": [
    "# Check interpolated counts where the ground truth is 0\n",
    "tract_interpolated.loc[(tract_truths==0).any(axis=1)]"
   ]
  },
  {
   "cell_type": "code",
   "execution_count": 17,
   "id": "0f9ca43c",
   "metadata": {},
   "outputs": [
    {
     "name": "stdout",
     "output_type": "stream",
     "text": [
      "(260, 4)\n"
     ]
    }
   ],
   "source": [
    "# Ignore GEOID 10001980000 and  when using houses as weights due to an incorrect interpolation of values onto an empty zipcode\n",
    "\n",
    "# TODO: describe() cannot handle division by zero when computing metrics.\n",
    "\n",
    "tract_truths = tract_truths.loc[~(tract_truths[\"GEOID\"].isin([10001980000,10005980000]))]\n",
    "tract_interpolated = tract_interpolated.loc[~(tract_interpolated[\"GEOID\"].isin([10001980000,10005980000]))]\n",
    "print(tract_truths.shape)"
   ]
  },
  {
   "cell_type": "code",
   "execution_count": 18,
   "id": "d8b9141f",
   "metadata": {},
   "outputs": [],
   "source": [
    "# Fill missing values in interpolated data with 0\n",
    "tract_interpolated = tract_interpolated.fillna(0)"
   ]
  },
  {
   "cell_type": "code",
   "execution_count": 19,
   "id": "42550e0b",
   "metadata": {},
   "outputs": [],
   "source": [
    "# Calculate difference between ground truth data and interpolated data as a percentage of ground truth data\n",
    "differences = (tract_truths[['pop','housing','white']] - tract_interpolated[['pop','housing','white']]) / tract_truths[['pop','housing','white']] * 100\n",
    "\n",
    "# Replace NAN values resulting from dividing by zero with 0\n",
    "# TODO: GEOID 10005980000 has interpolated values despite having a ground truth value of zero\n",
    "differences = differences.fillna(0)"
   ]
  },
  {
   "cell_type": "code",
   "execution_count": 20,
   "id": "44eae084",
   "metadata": {},
   "outputs": [
    {
     "data": {
      "text/html": [
       "<div>\n",
       "<style scoped>\n",
       "    .dataframe tbody tr th:only-of-type {\n",
       "        vertical-align: middle;\n",
       "    }\n",
       "\n",
       "    .dataframe tbody tr th {\n",
       "        vertical-align: top;\n",
       "    }\n",
       "\n",
       "    .dataframe thead th {\n",
       "        text-align: right;\n",
       "    }\n",
       "</style>\n",
       "<table border=\"1\" class=\"dataframe\">\n",
       "  <thead>\n",
       "    <tr style=\"text-align: right;\">\n",
       "      <th></th>\n",
       "      <th>pop</th>\n",
       "      <th>housing</th>\n",
       "      <th>white</th>\n",
       "    </tr>\n",
       "  </thead>\n",
       "  <tbody>\n",
       "    <tr>\n",
       "      <th>count</th>\n",
       "      <td>260.000000</td>\n",
       "      <td>260.000000</td>\n",
       "      <td>260.000000</td>\n",
       "    </tr>\n",
       "    <tr>\n",
       "      <th>mean</th>\n",
       "      <td>6.653993</td>\n",
       "      <td>7.705943</td>\n",
       "      <td>10.416870</td>\n",
       "    </tr>\n",
       "    <tr>\n",
       "      <th>std</th>\n",
       "      <td>5.733442</td>\n",
       "      <td>6.771925</td>\n",
       "      <td>8.916894</td>\n",
       "    </tr>\n",
       "    <tr>\n",
       "      <th>min</th>\n",
       "      <td>0.000000</td>\n",
       "      <td>0.000000</td>\n",
       "      <td>0.000000</td>\n",
       "    </tr>\n",
       "    <tr>\n",
       "      <th>25%</th>\n",
       "      <td>2.790148</td>\n",
       "      <td>2.632112</td>\n",
       "      <td>3.819253</td>\n",
       "    </tr>\n",
       "    <tr>\n",
       "      <th>50%</th>\n",
       "      <td>5.173204</td>\n",
       "      <td>6.058293</td>\n",
       "      <td>8.361969</td>\n",
       "    </tr>\n",
       "    <tr>\n",
       "      <th>75%</th>\n",
       "      <td>9.020482</td>\n",
       "      <td>10.676568</td>\n",
       "      <td>15.536756</td>\n",
       "    </tr>\n",
       "    <tr>\n",
       "      <th>max</th>\n",
       "      <td>31.164241</td>\n",
       "      <td>41.327810</td>\n",
       "      <td>57.812500</td>\n",
       "    </tr>\n",
       "  </tbody>\n",
       "</table>\n",
       "</div>"
      ],
      "text/plain": [
       "              pop     housing       white\n",
       "count  260.000000  260.000000  260.000000\n",
       "mean     6.653993    7.705943   10.416870\n",
       "std      5.733442    6.771925    8.916894\n",
       "min      0.000000    0.000000    0.000000\n",
       "25%      2.790148    2.632112    3.819253\n",
       "50%      5.173204    6.058293    8.361969\n",
       "75%      9.020482   10.676568   15.536756\n",
       "max     31.164241   41.327810   57.812500"
      ]
     },
     "execution_count": 20,
     "metadata": {},
     "output_type": "execute_result"
    }
   ],
   "source": [
    "# Analyze percentile differences\n",
    "differences.apply(np.abs).describe()"
   ]
  },
  {
   "cell_type": "code",
   "execution_count": null,
   "id": "11062c32",
   "metadata": {},
   "outputs": [],
   "source": []
  }
 ],
 "metadata": {
  "kernelspec": {
   "display_name": "Python 3 (ipykernel)",
   "language": "python",
   "name": "python3"
  },
  "language_info": {
   "codemirror_mode": {
    "name": "ipython",
    "version": 3
   },
   "file_extension": ".py",
   "mimetype": "text/x-python",
   "name": "python",
   "nbconvert_exporter": "python",
   "pygments_lexer": "ipython3",
   "version": "3.10.5"
  }
 },
 "nbformat": 4,
 "nbformat_minor": 5
}
